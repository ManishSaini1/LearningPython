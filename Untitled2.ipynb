{
 "cells": [
  {
   "cell_type": "code",
   "execution_count": 1,
   "metadata": {},
   "outputs": [
    {
     "name": "stdout",
     "output_type": "stream",
     "text": [
      "[]\n",
      "['HEllo', 'Manish', 'Saini']\n"
     ]
    },
    {
     "data": {
      "text/plain": [
       "3"
      ]
     },
     "execution_count": 1,
     "metadata": {},
     "output_type": "execute_result"
    }
   ],
   "source": [
    "listnew=list()\n",
    "print(listnew)\n",
    "listnew= ['HEllo', 'Manish', 'Saini']\n",
    "print(listnew)\n",
    "len(listnew)"
   ]
  },
  {
   "cell_type": "code",
   "execution_count": 3,
   "metadata": {},
   "outputs": [
    {
     "name": "stdout",
     "output_type": "stream",
     "text": [
      "['orange', 'mango', 'lemon']\n",
      "4\n",
      "['orange', 'mango', 'lemon', 'banana']\n",
      " I am good with 10\n",
      "YESS  5 is good\n",
      "C:\\Users\\mk818\\ PythongLearning\n"
     ]
    }
   ],
   "source": [
    "import os\n",
    "fruits = ['banana', 'orange', 'mango', 'lemon']\n",
    "print(fruits[-3: ])\n",
    "print(len(fruits))\n",
    "(fruits.sort(reverse=True))\n",
    "print(fruits)\n",
    "if 10 < 11:\n",
    "    print(\" I am good with 10\")\n",
    "    if 5 > 4:\n",
    "        print(\"YESS  5 is good\")\n",
    "else:\n",
    "    print(\"I am 11\")\n",
    "print(os.getcwd())"
   ]
  }
 ],
 "metadata": {
  "kernelspec": {
   "display_name": "Python 3",
   "language": "python",
   "name": "python3"
  },
  "language_info": {
   "codemirror_mode": {
    "name": "ipython",
    "version": 3
   },
   "file_extension": ".py",
   "mimetype": "text/x-python",
   "name": "python",
   "nbconvert_exporter": "python",
   "pygments_lexer": "ipython3",
   "version": "3.8.3"
  }
 },
 "nbformat": 4,
 "nbformat_minor": 4
}
